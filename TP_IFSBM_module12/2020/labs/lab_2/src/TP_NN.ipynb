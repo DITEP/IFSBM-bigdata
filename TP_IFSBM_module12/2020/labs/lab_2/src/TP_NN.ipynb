{
  "nbformat": 4,
  "nbformat_minor": 0,
  "metadata": {
    "colab": {
      "name": "TP_NN.ipynb",
      "provenance": [],
      "collapsed_sections": []
    },
    "kernelspec": {
      "name": "ir",
      "display_name": "R"
    }
  },
  "cells": [
    {
      "cell_type": "code",
      "metadata": {
        "id": "rCEtur7fajGn",
        "colab_type": "code",
        "outputId": "6600972f-ba92-4fdd-ba79-143691c86e32",
        "colab": {
          "base_uri": "https://localhost:8080/",
          "height": 102
        }
      },
      "source": [
        "cat(system('python3 -c \"from google.colab import drive\\ndrive.mount()\"', intern=TRUE), sep='\\n', wait=TRUE)"
      ],
      "execution_count": 6,
      "outputs": [
        {
          "output_type": "stream",
          "text": [
            "Warning message in system(\"python3 -c \\\"from google.colab import drive\\ndrive.mount()\\\"\", :\n",
            "“running command 'python3 -c \"from google.colab import drive\n",
            "drive.mount()\"' had status 1”\n"
          ],
          "name": "stderr"
        },
        {
          "output_type": "stream",
          "text": [
            "\n",
            "TRUE\n"
          ],
          "name": "stdout"
        }
      ]
    },
    {
      "cell_type": "markdown",
      "metadata": {
        "id": "j0T9qpAxU0nR",
        "colab_type": "text"
      },
      "source": [
        "#### INSTALL PACKAGES"
      ]
    },
    {
      "cell_type": "markdown",
      "metadata": {
        "id": "WfUHc3nbaIxA",
        "colab_type": "text"
      },
      "source": [
        "The installation takes a few minutes."
      ]
    },
    {
      "cell_type": "code",
      "metadata": {
        "id": "RwaxRseyTxKL",
        "colab_type": "code",
        "outputId": "3f14ac7f-e3e6-4cc0-ed42-c8cecbcc2737",
        "colab": {
          "base_uri": "https://localhost:8080/",
          "height": 272
        }
      },
      "source": [
        "install.packages(\"keras\")\n",
        "install.packages(\"dplyr\")\n",
        "install.packages(\"cgdsr\")"
      ],
      "execution_count": 5,
      "outputs": [
        {
          "output_type": "stream",
          "text": [
            "Installing package into ‘/usr/local/lib/R/site-library’\n",
            "(as ‘lib’ is unspecified)\n",
            "\n",
            "also installing the dependencies ‘rappdirs’, ‘config’, ‘reticulate’, ‘tensorflow’, ‘tfruns’\n",
            "\n",
            "\n",
            "Installing package into ‘/usr/local/lib/R/site-library’\n",
            "(as ‘lib’ is unspecified)\n",
            "\n",
            "Installing package into ‘/usr/local/lib/R/site-library’\n",
            "(as ‘lib’ is unspecified)\n",
            "\n",
            "also installing the dependencies ‘R.oo’, ‘R.methodsS3’\n",
            "\n",
            "\n"
          ],
          "name": "stderr"
        }
      ]
    },
    {
      "cell_type": "code",
      "metadata": {
        "id": "jqV9-9qtVRDs",
        "colab_type": "code",
        "colab": {
          "base_uri": "https://localhost:8080/",
          "height": 289
        },
        "outputId": "08f5a6d2-7f6c-4623-f928-756b4b3707cd"
      },
      "source": [
        "library(keras)\n",
        "library(dplyr)\n",
        "library(cgdsr)"
      ],
      "execution_count": 7,
      "outputs": [
        {
          "output_type": "stream",
          "text": [
            "\n",
            "Attaching package: ‘dplyr’\n",
            "\n",
            "\n",
            "The following objects are masked from ‘package:stats’:\n",
            "\n",
            "    filter, lag\n",
            "\n",
            "\n",
            "The following objects are masked from ‘package:base’:\n",
            "\n",
            "    intersect, setdiff, setequal, union\n",
            "\n",
            "\n",
            "Please send questions to cbioportal@googlegroups.com\n",
            "\n"
          ],
          "name": "stderr"
        }
      ]
    },
    {
      "cell_type": "markdown",
      "metadata": {
        "id": "LADBaYWVUTTo",
        "colab_type": "text"
      },
      "source": [
        "# 1. What you will do in this R Notebook"
      ]
    },
    {
      "cell_type": "markdown",
      "metadata": {
        "id": "_1E5SepWYs20",
        "colab_type": "text"
      },
      "source": [
        "## Introduction\n",
        "This is the second day of your training in R for Machine Learning. You will now enter the wide, wild and exciting field of Deep Learning!\n",
        "\n",
        "Neural Networks and Deep Learning have revolutionized the performance of many Machine Learning tasks: in image analysis, gaming and natural langage understanding, for example.\n",
        "\n",
        "Again your input is a huge amount of variables (genes expression per patients) and you want to provide the clinician a simple output that he can use for his patients.\n",
        "\n",
        "I hope you’ll enjoy this Notebook and that it can help you to adress your current and/or future challenges.\n",
        "\n",
        "## Main steps\n",
        "After loading TCGA data, we will build and train a simple neural network.\n",
        "\n",
        "## In practice\n",
        "The code is provided to you. You will just have to follow the instructions all along the Notebook. I’ll give you a little bit of explanation when needed.\n",
        "\n",
        "Pay attention: there will be some questions to answer in this notebook.\n",
        "\n",
        "Finally you will have a partial code to complete at the end of the notebook, and give it back to us.\n",
        "\n",
        "–> lets’ go!"
      ]
    },
    {
      "cell_type": "markdown",
      "metadata": {
        "id": "B7n71f6sY4pO",
        "colab_type": "text"
      },
      "source": [
        "# 2. Load the data\n",
        "Keras is a library of functions specifically dedicated to the building, training and testing of a wide range of neural networks. The math is pre-computed, and functions are relatively user-friendly: is a high level API. It can use several lower level back-ends for the math and calculation. We use the default one: Tensorflow. Tensorflow is a way to perform computations with high dimensional data, using computational graphs Keras and Tensorflow have been develloped by Google and are open source.\n",
        "\n",
        "Load and install Keras."
      ]
    },
    {
      "cell_type": "code",
      "metadata": {
        "id": "SjkoT6peZJAs",
        "colab_type": "code",
        "colab": {}
      },
      "source": [
        "source(\"https://raw.githubusercontent.com/gustaveroussy/IFSBM-bigdata/master/TP_IFSBM_module12/2020/labs/lib/LoadcBioportal150119.R\")\n",
        "set.seed(1234)"
      ],
      "execution_count": 0,
      "outputs": []
    },
    {
      "cell_type": "markdown",
      "metadata": {
        "id": "bGohvWbnZtGP",
        "colab_type": "text"
      },
      "source": [
        "Select the genes you want to use."
      ]
    },
    {
      "cell_type": "code",
      "metadata": {
        "id": "-SdN80FeZJNy",
        "colab_type": "code",
        "colab": {
          "base_uri": "https://localhost:8080/",
          "height": 54
        },
        "outputId": "c860aaa3-a87c-4735-c246-7cafcbfc1c5d"
      },
      "source": [
        "CGS <- read.csv(\"https://raw.githubusercontent.com/gustaveroussy/IFSBM-bigdata/master/TP_IFSBM_module12/2020/labs/lab_2/data/CancerGeneCensusCOSMIC.csv\",stringsAsFactors = F)\n",
        "GENES <- CGS$Gene.Symbol[CGS$Hallmark==\"Yes\"]\n",
        "print(paste(\"You have selected\",length(GENES),\"important cancer genes like:\", paste(sample(GENES,20), collapse = \", \"), \"...\"))"
      ],
      "execution_count": 9,
      "outputs": [
        {
          "output_type": "stream",
          "text": [
            "[1] \"You have selected 251 important cancer genes like: AXIN2, CNBP, HIP1, EGFR, TCL1A, ERBB2, FLT3, FGFR3, LEF1, GNAQ, FGFR2, DNM2, EIF4A2, RAF1, DAXX, CDK4, CLTCL1, PTEN, ERCC3, AR ...\"\n"
          ],
          "name": "stdout"
        }
      ]
    },
    {
      "cell_type": "markdown",
      "metadata": {
        "id": "7ArSbeptZv2D",
        "colab_type": "text"
      },
      "source": [
        "Dowload TCGA data from the LoadcBioportal that you know."
      ]
    },
    {
      "cell_type": "code",
      "metadata": {
        "id": "lp596q4sZwGh",
        "colab_type": "code",
        "colab": {
          "base_uri": "https://localhost:8080/",
          "height": 255
        },
        "outputId": "26bcd9eb-1c2f-466f-e397-79c3e00ba7a8"
      },
      "source": [
        "# load TCGA data of lung adenocarcinoma and lung squamous cell carcinoma\n",
        "\n",
        "# set the argument Organ \n",
        "TCGAdata <- LoadcBioportal(\n",
        "  Genes = GENES, \n",
        "  Organ = \"luad|lusc\",\n",
        "  ClinicNeeded = T, \n",
        "  MutNeeded = F,   \n",
        "  RNANeeded = T, \n",
        "  NormalizeRNA = T, \n",
        "  FunctionalAnnot = F, \n",
        "  PDF = F, \n",
        "  Tests=T\n",
        ")"
      ],
      "execution_count": 10,
      "outputs": [
        {
          "output_type": "stream",
          "text": [
            "getCancerStudies...  OK\n",
            "getCaseLists (1/2) ...  OK\n",
            "getCaseLists (2/2) ...  OK\n",
            "getGeneticProfiles (1/2) ...  OK\n",
            "getGeneticProfiles (2/2) ...  OK\n",
            "getClinicalData (1/1) ...  OK\n",
            "getProfileData (1/6) ...  OK\n",
            "getProfileData (2/6) ...  OK\n",
            "getProfileData (3/6) ...  OK\n",
            "getProfileData (4/6) ...  OK\n",
            "getProfileData (5/6) ...  OK\n",
            "getProfileData (6/6) ...  OK\n",
            "[1] \"Pooling : luad_tcga_pub & lusc_tcga\"\n",
            "[1] \"Discard HRAS because NAs in RNAseq\"\n"
          ],
          "name": "stdout"
        }
      ]
    },
    {
      "cell_type": "code",
      "metadata": {
        "id": "QtAz3zRXlSNs",
        "colab_type": "code",
        "colab": {
          "base_uri": "https://localhost:8080/",
          "height": 170
        },
        "outputId": "bec4a1dd-3c57-4590-e62f-a81f2b845c73"
      },
      "source": [
        "STUDY<-TCGAdata$STUDY\n",
        "paste(rep(\"=\", 40), collapse=\"\")\n",
        "paste(\"Number of patients\")\n",
        "table(TCGAdata$CLINIC$study)\n",
        "paste(\"Dimensions TCGAdata$EXP:\")\n",
        "paste(\"nrow: \", nrow(TCGAdata$EXP))\n",
        "paste(\"ncol: \", ncol(TCGAdata$EXP))\n",
        "paste(rep(\"=\", 40), collapse=\"\")"
      ],
      "execution_count": 40,
      "outputs": [
        {
          "output_type": "display_data",
          "data": {
            "text/plain": [
              "[1] \"========================================\""
            ],
            "text/latex": "'========================================'",
            "text/markdown": "'========================================'",
            "text/html": [
              "'========================================'"
            ]
          },
          "metadata": {
            "tags": []
          }
        },
        {
          "output_type": "display_data",
          "data": {
            "text/plain": [
              "[1] \"Number of patients\""
            ],
            "text/latex": "'Number of patients'",
            "text/markdown": "'Number of patients'",
            "text/html": [
              "'Number of patients'"
            ]
          },
          "metadata": {
            "tags": []
          }
        },
        {
          "output_type": "display_data",
          "data": {
            "text/plain": [
              "\n",
              "luad lusc \n",
              " 230  178 "
            ]
          },
          "metadata": {
            "tags": []
          }
        },
        {
          "output_type": "display_data",
          "data": {
            "text/plain": [
              "[1] \"Dimensions TCGAdata$EXP:\""
            ],
            "text/latex": "'Dimensions TCGAdata\\$EXP:'",
            "text/markdown": "'Dimensions TCGAdata$EXP:'",
            "text/html": [
              "'Dimensions TCGAdata$EXP:'"
            ]
          },
          "metadata": {
            "tags": []
          }
        },
        {
          "output_type": "display_data",
          "data": {
            "text/plain": [
              "[1] \"nrow:  408\""
            ],
            "text/latex": "'nrow:  408'",
            "text/markdown": "<span style=white-space:pre-wrap>'nrow:  408'</span>",
            "text/html": [
              "<span style=white-space:pre-wrap>'nrow:  408'</span>"
            ]
          },
          "metadata": {
            "tags": []
          }
        },
        {
          "output_type": "display_data",
          "data": {
            "text/plain": [
              "[1] \"ncol:  250\""
            ],
            "text/latex": "'ncol:  250'",
            "text/markdown": "<span style=white-space:pre-wrap>'ncol:  250'</span>",
            "text/html": [
              "<span style=white-space:pre-wrap>'ncol:  250'</span>"
            ]
          },
          "metadata": {
            "tags": []
          }
        },
        {
          "output_type": "display_data",
          "data": {
            "text/plain": [
              "[1] \"========================================\""
            ],
            "text/latex": "'========================================'",
            "text/markdown": "'========================================'",
            "text/html": [
              "'========================================'"
            ]
          },
          "metadata": {
            "tags": []
          }
        }
      ]
    },
    {
      "cell_type": "markdown",
      "metadata": {
        "id": "ncHmzm_tm6x8",
        "colab_type": "text"
      },
      "source": [
        "# 3. Keras"
      ]
    },
    {
      "cell_type": "markdown",
      "metadata": {
        "id": "9LQquWxJm5pg",
        "colab_type": "text"
      },
      "source": [
        "Keras is a library of functions specifically dedicated to the building, training and testing of a wide range of neural networks. The math is pre-computed, and functions are relatively user-friendly: is a high level API. It can use several lower level back-ends for the math and calculation. We use the default one: Tensorflow. Tensorflow is a way to perform computations with high dimensional data, using computational graphs Keras and Tensorflow have been develloped by Google and are open source."
      ]
    },
    {
      "cell_type": "markdown",
      "metadata": {
        "id": "1ktTx2Q0nVzD",
        "colab_type": "text"
      },
      "source": [
        "## 3.1 Model building\n",
        "Building the neural network requires configuring the layers of the model, then compiling the model. Look at the slides! (computational graphs and neural nets)\n",
        "\n",
        "Setup the layers\n",
        "The basic building block of a neural network is the layer. Layers extract representations from the data fed into them. And, hopefully, these representations are more meaningful for the problem at hand. Most of deep learning consists of chaining together simple layers. Most layers, like layer_dense, have parameters that are learned during training.\n",
        "\n"
      ]
    },
    {
      "cell_type": "code",
      "metadata": {
        "id": "Hnn9_ftnl6fm",
        "colab_type": "code",
        "colab": {
          "base_uri": "https://localhost:8080/",
          "height": 255
        },
        "outputId": "4a887204-9949-4f7a-e7dd-791a6ab207e4"
      },
      "source": [
        "#### define the architecture\n",
        "model <- keras_model_sequential()\n",
        "model %>%\n",
        "  layer_dense(input_shape = 250, units = 128, activation = 'relu') %>%\n",
        "  layer_dense(units = 30, activation = 'relu') %>%\n",
        "  layer_dense(units = 2, activation = 'sigmoid')\n",
        "summary(model)"
      ],
      "execution_count": 70,
      "outputs": [
        {
          "output_type": "stream",
          "text": [
            "Model: \"sequential_1\"\n",
            "________________________________________________________________________________\n",
            "Layer (type)                        Output Shape                    Param #     \n",
            "================================================================================\n",
            "dense_3 (Dense)                     (None, 128)                     32128       \n",
            "________________________________________________________________________________\n",
            "dense_4 (Dense)                     (None, 30)                      3870        \n",
            "________________________________________________________________________________\n",
            "dense_5 (Dense)                     (None, 2)                       62          \n",
            "================================================================================\n",
            "Total params: 36,060\n",
            "Trainable params: 36,060\n",
            "Non-trainable params: 0\n",
            "________________________________________________________________________________\n"
          ],
          "name": "stdout"
        }
      ]
    },
    {
      "cell_type": "markdown",
      "metadata": {
        "id": "vVp3SMzWZzHL",
        "colab_type": "text"
      },
      "source": [
        "## 3.2 Compile the model\n",
        "Before the model is ready for training, it needs a few more settings. These are added during the model’s compile step:\n",
        "\n",
        "Loss function - This measures how accurate the model is during training. We want to minimize this function to “steer” the model in the right direction. Optimizer - This is how the model is updated based on the data it sees and its loss function. Metrics -Used to monitor the training and testing steps. The following example uses accuracy, the fraction of the images that are correctly classified."
      ]
    },
    {
      "cell_type": "code",
      "metadata": {
        "id": "0e09XUU6oMu4",
        "colab_type": "code",
        "colab": {}
      },
      "source": [
        "model %>% compile(\n",
        "  optimizer = 'adam', \n",
        "  loss = 'mse',\n",
        "  metrics = c('accuracy')\n",
        ")"
      ],
      "execution_count": 0,
      "outputs": []
    },
    {
      "cell_type": "markdown",
      "metadata": {
        "id": "_wjr9FsYoXER",
        "colab_type": "text"
      },
      "source": [
        "# 4. Train and evaluate the model"
      ]
    },
    {
      "cell_type": "markdown",
      "metadata": {
        "id": "wNogzxWLoZLq",
        "colab_type": "text"
      },
      "source": [
        "Training the neural network model requires the following steps:\n",
        "\n",
        "Feed the training data to the model - in this example, the train_images and train_labels arrays. The model learns to associate images and labels. We ask the model to make predictions about a test set - in this example, the test_images array. We verify that the predictions match the labels from the test_labels array. To start training, call the fit method - the model is “fit” to the training data:\n",
        "\n",
        "As the model trains, the loss and accuracy metrics are displayed. This model reaches an accuracy of about XX on the training data."
      ]
    },
    {
      "cell_type": "markdown",
      "metadata": {
        "id": "SXVOc4XWrN_9",
        "colab_type": "text"
      },
      "source": [
        "### Training parameters"
      ]
    },
    {
      "cell_type": "code",
      "metadata": {
        "id": "xWvEJUAtrSOL",
        "colab_type": "code",
        "colab": {}
      },
      "source": [
        "TrainSplit <- 0.8   #### size of train split"
      ],
      "execution_count": 0,
      "outputs": []
    },
    {
      "cell_type": "code",
      "metadata": {
        "id": "Mdj1a4yErJWo",
        "colab_type": "code",
        "colab": {
          "base_uri": "https://localhost:8080/",
          "height": 51
        },
        "outputId": "1f1ca31d-1e19-4d76-c56c-af74a964484c"
      },
      "source": [
        "### split the data\n",
        "Train <- sample(seq(nrow(TCGAdata$CLINIC)),size = round(nrow(TCGAdata$CLINIC)*TrainSplit) )\n",
        "Val   <- seq(nrow(TCGAdata$CLINIC))[!seq(nrow(TCGAdata$CLINIC)) %in% Train]\n",
        "paste(\"SIZE TRAINING: \", length(Train), sep=\"\")\n",
        "paste(\"SIZE VALIDATION: \", length(Val), sep=\"\")"
      ],
      "execution_count": 79,
      "outputs": [
        {
          "output_type": "display_data",
          "data": {
            "text/plain": [
              "[1] \"SIZE TRAINING: 326\""
            ],
            "text/latex": "'SIZE TRAINING: 326'",
            "text/markdown": "'SIZE TRAINING: 326'",
            "text/html": [
              "'SIZE TRAINING: 326'"
            ]
          },
          "metadata": {
            "tags": []
          }
        },
        {
          "output_type": "display_data",
          "data": {
            "text/plain": [
              "[1] \"SIZE VALIDATION: 82\""
            ],
            "text/latex": "'SIZE VALIDATION: 82'",
            "text/markdown": "'SIZE VALIDATION: 82'",
            "text/html": [
              "'SIZE VALIDATION: 82'"
            ]
          },
          "metadata": {
            "tags": []
          }
        }
      ]
    },
    {
      "cell_type": "code",
      "metadata": {
        "id": "1Vsp5UfEqVWa",
        "colab_type": "code",
        "colab": {}
      },
      "source": [
        "#### use the genes expression\n",
        "xTrain <- as.matrix(TCGAdata$EXP[Train,])\n",
        "xVal   <- as.matrix(TCGAdata$EXP[Val,])\n",
        "\n",
        "#### target: the organs\n",
        "yTrain <- TCGAdata$CLINIC$study[Train]\n",
        "yVal   <- TCGAdata$CLINIC$study[Val]\n",
        "\n",
        "#### encode the organs\n",
        "cat2Int <- list(\"luad\"=0, \"lusc\"=1)\n",
        "for (cat in names(cat2Int)){\n",
        "  yTrain[yTrain==cat] <- cat2Int[cat]\n",
        "  yVal[yVal==cat] <- cat2Int[cat]\n",
        "}\n",
        "\n",
        "yTrain <- to_categorical(yTrain, 2)\n",
        "yVal   <- to_categorical(yVal, 2)"
      ],
      "execution_count": 0,
      "outputs": []
    },
    {
      "cell_type": "code",
      "metadata": {
        "id": "u-YM9_VrpB9P",
        "colab_type": "code",
        "colab": {}
      },
      "source": [
        "#### record training history\n",
        "history <- model %>% fit(\n",
        "    x                = xTrain,\n",
        "    y                = yTrain,\n",
        "    epochs           = 100,\n",
        "    validation_split = 0.2,\n",
        "    shuffle=FALSE\n",
        ")"
      ],
      "execution_count": 0,
      "outputs": []
    },
    {
      "cell_type": "code",
      "metadata": {
        "id": "ml63-uYwVnF7",
        "colab_type": "code",
        "outputId": "af5e78ae-18c7-40a3-efb3-fd7f088798b2",
        "colab": {
          "base_uri": "https://localhost:8080/",
          "height": 437
        }
      },
      "source": [
        "#### training curves\n",
        "plot(history)"
      ],
      "execution_count": 82,
      "outputs": [
        {
          "output_type": "display_data",
          "data": {
            "image/png": "[encoded data removed]",
            "text/plain": [
              "plot without title"
            ]
          },
          "metadata": {
            "tags": [],
            "image/png": {
              "width": 420,
              "height": 420
            },
            "text/plain": {
              "width": 420,
              "height": 420
            }
          }
        }
      ]
    }
  ]
}